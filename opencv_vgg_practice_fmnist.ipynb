{
  "nbformat": 4,
  "nbformat_minor": 0,
  "metadata": {
    "colab": {
      "provenance": [],
      "gpuType": "T4",
      "authorship_tag": "ABX9TyONj5AwUv2/dPlSXN0k8pbg",
      "include_colab_link": true
    },
    "kernelspec": {
      "name": "python3",
      "display_name": "Python 3"
    },
    "language_info": {
      "name": "python"
    },
    "accelerator": "GPU"
  },
  "cells": [
    {
      "cell_type": "markdown",
      "metadata": {
        "id": "view-in-github",
        "colab_type": "text"
      },
      "source": [
        "<a href=\"https://colab.research.google.com/github/lazylettucewaseaten/AshishRanjan_datahack/blob/main/opencv_vgg_practice_fmnist.ipynb\" target=\"_parent\"><img src=\"https://colab.research.google.com/assets/colab-badge.svg\" alt=\"Open In Colab\"/></a>"
      ]
    },
    {
      "cell_type": "code",
      "execution_count": 3,
      "metadata": {
        "id": "cNNkOD-KnyLl"
      },
      "outputs": [],
      "source": [
        "import pandas as pd\n",
        "import tensorflow\n",
        "import tensorflow.keras\n",
        "import numpy as np\n",
        "from tensorflow.keras.optimizers import Adam\n",
        "from tensorflow.keras import layers\n",
        "from tensorflow.keras.layers import Dense,Conv2D,Flatten,MaxPooling2D,Dropout\n",
        "# from tensorflow.keras.activators import ReLU\n",
        "from tensorflow.keras import Sequential\n",
        "from tensorflow.keras.losses import SparseCategoricalCrossentropy\n",
        "from tensorflow.keras.callbacks import EarlyStopping\n"
      ]
    },
    {
      "cell_type": "code",
      "source": [
        "fmnist=tensorflow.keras.datasets.fashion_mnist\n",
        "(X_train,y_train),(X_test,y_test)=fmnist.load_data()"
      ],
      "metadata": {
        "colab": {
          "base_uri": "https://localhost:8080/"
        },
        "id": "evg1XvCGoFZ1",
        "outputId": "0f84336a-3e01-4d5a-9883-b9632b354082"
      },
      "execution_count": 4,
      "outputs": [
        {
          "output_type": "stream",
          "name": "stdout",
          "text": [
            "Downloading data from https://storage.googleapis.com/tensorflow/tf-keras-datasets/train-labels-idx1-ubyte.gz\n",
            "29515/29515 [==============================] - 0s 0us/step\n",
            "Downloading data from https://storage.googleapis.com/tensorflow/tf-keras-datasets/train-images-idx3-ubyte.gz\n",
            "26421880/26421880 [==============================] - 2s 0us/step\n",
            "Downloading data from https://storage.googleapis.com/tensorflow/tf-keras-datasets/t10k-labels-idx1-ubyte.gz\n",
            "5148/5148 [==============================] - 0s 0us/step\n",
            "Downloading data from https://storage.googleapis.com/tensorflow/tf-keras-datasets/t10k-images-idx3-ubyte.gz\n",
            "4422102/4422102 [==============================] - 1s 0us/step\n"
          ]
        }
      ]
    },
    {
      "cell_type": "code",
      "source": [
        "class_names = ['T-shirt/top', 'Trouser', 'Pullover', 'Dress', 'Coat','Sandal', 'Shirt', 'Sneaker', 'Bag', 'Ankle boot']"
      ],
      "metadata": {
        "id": "weL1fagppC50"
      },
      "execution_count": 22,
      "outputs": []
    },
    {
      "cell_type": "code",
      "source": [
        "X_train=X_train.reshape(X_train.shape[0],28,28,1)\n",
        "X_test=X_test.reshape(X_test.shape[0],28,28,1)"
      ],
      "metadata": {
        "id": "BvbcQL82pOuD"
      },
      "execution_count": 23,
      "outputs": []
    },
    {
      "cell_type": "code",
      "source": [
        "model=Sequential()\n",
        "#cnn with pooling\n",
        "model.add(Conv2D(filters=32,kernel_size=(3,3),strides=(1,1),activation='relu',padding='valid'))\n",
        "model.add(MaxPooling2D(pool_size=(2,2)))\n",
        "model.add(Conv2D(filters=16,kernel_size=(3,3),strides=(1,1),activation='relu',padding='valid'))\n",
        "model.add(MaxPooling2D(pool_size=(2,2)))\n",
        "#flatten\n",
        "model.add(Flatten())\n",
        "#dense\n",
        "model.add(Dense(128,activation='relu'))\n",
        "model.add(Dropout(rate=0.2))\n",
        "#output\n",
        "model.add(Dense(10,activation='softmax'))"
      ],
      "metadata": {
        "id": "efDGQXjBpQC6"
      },
      "execution_count": 24,
      "outputs": []
    },
    {
      "cell_type": "code",
      "source": [
        "# model.summary()\n",
        "model.compile(optimizer='adam',loss=SparseCategoricalCrossentropy(),metrics=['accuracy'])"
      ],
      "metadata": {
        "id": "CPsELho4pidq"
      },
      "execution_count": 25,
      "outputs": []
    },
    {
      "cell_type": "code",
      "source": [
        "X_train=X_train/255"
      ],
      "metadata": {
        "id": "yQw0MiNLYyZ2"
      },
      "execution_count": 26,
      "outputs": []
    },
    {
      "cell_type": "code",
      "source": [
        "callback=EarlyStopping(monitor='val_loss',mode='auto',patience=4,restore_best_weights=True)\n",
        "model.fit(X_train,y_train,epochs=15,batch_size=32,callbacks=[callback],validation_split=0.1,verbose=1)"
      ],
      "metadata": {
        "colab": {
          "base_uri": "https://localhost:8080/"
        },
        "id": "g8UkJA9eTWUi",
        "outputId": "899c1a71-f252-4393-e011-9f42dd7c1cd3"
      },
      "execution_count": 27,
      "outputs": [
        {
          "output_type": "stream",
          "name": "stdout",
          "text": [
            "Epoch 1/15\n",
            "1688/1688 [==============================] - 10s 5ms/step - loss: 0.5325 - accuracy: 0.8071 - val_loss: 0.3654 - val_accuracy: 0.8647\n",
            "Epoch 2/15\n",
            "1688/1688 [==============================] - 7s 4ms/step - loss: 0.3598 - accuracy: 0.8701 - val_loss: 0.3296 - val_accuracy: 0.8788\n",
            "Epoch 3/15\n",
            "1688/1688 [==============================] - 8s 5ms/step - loss: 0.3166 - accuracy: 0.8847 - val_loss: 0.2986 - val_accuracy: 0.8898\n",
            "Epoch 4/15\n",
            "1688/1688 [==============================] - 7s 4ms/step - loss: 0.2899 - accuracy: 0.8941 - val_loss: 0.2855 - val_accuracy: 0.8935\n",
            "Epoch 5/15\n",
            "1688/1688 [==============================] - 8s 5ms/step - loss: 0.2732 - accuracy: 0.8997 - val_loss: 0.2934 - val_accuracy: 0.8870\n",
            "Epoch 6/15\n",
            "1688/1688 [==============================] - 8s 5ms/step - loss: 0.2566 - accuracy: 0.9049 - val_loss: 0.2642 - val_accuracy: 0.9035\n",
            "Epoch 7/15\n",
            "1688/1688 [==============================] - 7s 4ms/step - loss: 0.2417 - accuracy: 0.9083 - val_loss: 0.2720 - val_accuracy: 0.9003\n",
            "Epoch 8/15\n",
            "1688/1688 [==============================] - 8s 5ms/step - loss: 0.2314 - accuracy: 0.9137 - val_loss: 0.2731 - val_accuracy: 0.8955\n",
            "Epoch 9/15\n",
            "1688/1688 [==============================] - 7s 4ms/step - loss: 0.2220 - accuracy: 0.9168 - val_loss: 0.2537 - val_accuracy: 0.9087\n",
            "Epoch 10/15\n",
            "1688/1688 [==============================] - 8s 5ms/step - loss: 0.2123 - accuracy: 0.9207 - val_loss: 0.2545 - val_accuracy: 0.9070\n",
            "Epoch 11/15\n",
            "1688/1688 [==============================] - 8s 5ms/step - loss: 0.2030 - accuracy: 0.9248 - val_loss: 0.2596 - val_accuracy: 0.9052\n",
            "Epoch 12/15\n",
            "1688/1688 [==============================] - 7s 4ms/step - loss: 0.1977 - accuracy: 0.9263 - val_loss: 0.2642 - val_accuracy: 0.9047\n",
            "Epoch 13/15\n",
            "1688/1688 [==============================] - 8s 5ms/step - loss: 0.1885 - accuracy: 0.9301 - val_loss: 0.2721 - val_accuracy: 0.9015\n"
          ]
        },
        {
          "output_type": "execute_result",
          "data": {
            "text/plain": [
              "<keras.src.callbacks.History at 0x7c45ce264550>"
            ]
          },
          "metadata": {},
          "execution_count": 27
        }
      ]
    },
    {
      "cell_type": "code",
      "source": [
        "X_test=X_test/255\n",
        "# model.evalute(X_test,y_test)\n",
        "pred=model.predict(X_test)"
      ],
      "metadata": {
        "colab": {
          "base_uri": "https://localhost:8080/"
        },
        "id": "Pq3BmJELX54_",
        "outputId": "7b4b6545-7cb0-44ca-9a57-8bade2e4ad36"
      },
      "execution_count": 28,
      "outputs": [
        {
          "output_type": "stream",
          "name": "stdout",
          "text": [
            "313/313 [==============================] - 1s 2ms/step\n"
          ]
        }
      ]
    },
    {
      "cell_type": "code",
      "source": [
        "from sklearn.metrics import confusion_matrix, classification_report\n",
        "pred = np.argmax(pred, axis=1)\n",
        "print(classification_report( y_test, pred, target_names=class_names))\n",
        "pd.DataFrame(confusion_matrix(y_test, pred), index=class_names, columns=class_names)\n"
      ],
      "metadata": {
        "colab": {
          "base_uri": "https://localhost:8080/",
          "height": 658
        },
        "id": "8f2lDAK3Y474",
        "outputId": "aba3695a-c93f-4884-cb56-4673b579bbe0"
      },
      "execution_count": 29,
      "outputs": [
        {
          "output_type": "stream",
          "name": "stdout",
          "text": [
            "              precision    recall  f1-score   support\n",
            "\n",
            " T-shirt/top       0.86      0.86      0.86      1000\n",
            "     Trouser       1.00      0.97      0.98      1000\n",
            "    Pullover       0.82      0.88      0.85      1000\n",
            "       Dress       0.87      0.93      0.90      1000\n",
            "        Coat       0.87      0.80      0.83      1000\n",
            "      Sandal       0.98      0.97      0.98      1000\n",
            "       Shirt       0.73      0.69      0.71      1000\n",
            "     Sneaker       0.93      0.98      0.96      1000\n",
            "         Bag       0.98      0.97      0.98      1000\n",
            "  Ankle boot       0.98      0.94      0.96      1000\n",
            "\n",
            "    accuracy                           0.90     10000\n",
            "   macro avg       0.90      0.90      0.90     10000\n",
            "weighted avg       0.90      0.90      0.90     10000\n",
            "\n"
          ]
        },
        {
          "output_type": "execute_result",
          "data": {
            "text/plain": [
              "             T-shirt/top  Trouser  Pullover  Dress  Coat  Sandal  Shirt  \\\n",
              "T-shirt/top          858        0        17     31     2       1     87   \n",
              "Trouser                0      973         1     17     3       0      4   \n",
              "Pullover              16        0       884      9    34       0     57   \n",
              "Dress                  8        2        10    934    17       0     27   \n",
              "Coat                   1        1        75     46   801       0     76   \n",
              "Sandal                 0        0         0      0     0     971      0   \n",
              "Shirt                116        0        90     29    61       0    692   \n",
              "Sneaker                0        0         0      0     0       3      0   \n",
              "Bag                    1        0         5      6     3       3      3   \n",
              "Ankle boot             0        0         0      0     0       9      0   \n",
              "\n",
              "             Sneaker  Bag  Ankle boot  \n",
              "T-shirt/top        0    4           0  \n",
              "Trouser            0    2           0  \n",
              "Pullover           0    0           0  \n",
              "Dress              0    2           0  \n",
              "Coat               0    0           0  \n",
              "Sandal            22    0           7  \n",
              "Shirt              0   12           0  \n",
              "Sneaker          982    0          15  \n",
              "Bag                4  975           0  \n",
              "Ankle boot        48    0         943  "
            ],
            "text/html": [
              "\n",
              "  <div id=\"df-85670982-3e67-442b-bd69-8904af700aa1\" class=\"colab-df-container\">\n",
              "    <div>\n",
              "<style scoped>\n",
              "    .dataframe tbody tr th:only-of-type {\n",
              "        vertical-align: middle;\n",
              "    }\n",
              "\n",
              "    .dataframe tbody tr th {\n",
              "        vertical-align: top;\n",
              "    }\n",
              "\n",
              "    .dataframe thead th {\n",
              "        text-align: right;\n",
              "    }\n",
              "</style>\n",
              "<table border=\"1\" class=\"dataframe\">\n",
              "  <thead>\n",
              "    <tr style=\"text-align: right;\">\n",
              "      <th></th>\n",
              "      <th>T-shirt/top</th>\n",
              "      <th>Trouser</th>\n",
              "      <th>Pullover</th>\n",
              "      <th>Dress</th>\n",
              "      <th>Coat</th>\n",
              "      <th>Sandal</th>\n",
              "      <th>Shirt</th>\n",
              "      <th>Sneaker</th>\n",
              "      <th>Bag</th>\n",
              "      <th>Ankle boot</th>\n",
              "    </tr>\n",
              "  </thead>\n",
              "  <tbody>\n",
              "    <tr>\n",
              "      <th>T-shirt/top</th>\n",
              "      <td>858</td>\n",
              "      <td>0</td>\n",
              "      <td>17</td>\n",
              "      <td>31</td>\n",
              "      <td>2</td>\n",
              "      <td>1</td>\n",
              "      <td>87</td>\n",
              "      <td>0</td>\n",
              "      <td>4</td>\n",
              "      <td>0</td>\n",
              "    </tr>\n",
              "    <tr>\n",
              "      <th>Trouser</th>\n",
              "      <td>0</td>\n",
              "      <td>973</td>\n",
              "      <td>1</td>\n",
              "      <td>17</td>\n",
              "      <td>3</td>\n",
              "      <td>0</td>\n",
              "      <td>4</td>\n",
              "      <td>0</td>\n",
              "      <td>2</td>\n",
              "      <td>0</td>\n",
              "    </tr>\n",
              "    <tr>\n",
              "      <th>Pullover</th>\n",
              "      <td>16</td>\n",
              "      <td>0</td>\n",
              "      <td>884</td>\n",
              "      <td>9</td>\n",
              "      <td>34</td>\n",
              "      <td>0</td>\n",
              "      <td>57</td>\n",
              "      <td>0</td>\n",
              "      <td>0</td>\n",
              "      <td>0</td>\n",
              "    </tr>\n",
              "    <tr>\n",
              "      <th>Dress</th>\n",
              "      <td>8</td>\n",
              "      <td>2</td>\n",
              "      <td>10</td>\n",
              "      <td>934</td>\n",
              "      <td>17</td>\n",
              "      <td>0</td>\n",
              "      <td>27</td>\n",
              "      <td>0</td>\n",
              "      <td>2</td>\n",
              "      <td>0</td>\n",
              "    </tr>\n",
              "    <tr>\n",
              "      <th>Coat</th>\n",
              "      <td>1</td>\n",
              "      <td>1</td>\n",
              "      <td>75</td>\n",
              "      <td>46</td>\n",
              "      <td>801</td>\n",
              "      <td>0</td>\n",
              "      <td>76</td>\n",
              "      <td>0</td>\n",
              "      <td>0</td>\n",
              "      <td>0</td>\n",
              "    </tr>\n",
              "    <tr>\n",
              "      <th>Sandal</th>\n",
              "      <td>0</td>\n",
              "      <td>0</td>\n",
              "      <td>0</td>\n",
              "      <td>0</td>\n",
              "      <td>0</td>\n",
              "      <td>971</td>\n",
              "      <td>0</td>\n",
              "      <td>22</td>\n",
              "      <td>0</td>\n",
              "      <td>7</td>\n",
              "    </tr>\n",
              "    <tr>\n",
              "      <th>Shirt</th>\n",
              "      <td>116</td>\n",
              "      <td>0</td>\n",
              "      <td>90</td>\n",
              "      <td>29</td>\n",
              "      <td>61</td>\n",
              "      <td>0</td>\n",
              "      <td>692</td>\n",
              "      <td>0</td>\n",
              "      <td>12</td>\n",
              "      <td>0</td>\n",
              "    </tr>\n",
              "    <tr>\n",
              "      <th>Sneaker</th>\n",
              "      <td>0</td>\n",
              "      <td>0</td>\n",
              "      <td>0</td>\n",
              "      <td>0</td>\n",
              "      <td>0</td>\n",
              "      <td>3</td>\n",
              "      <td>0</td>\n",
              "      <td>982</td>\n",
              "      <td>0</td>\n",
              "      <td>15</td>\n",
              "    </tr>\n",
              "    <tr>\n",
              "      <th>Bag</th>\n",
              "      <td>1</td>\n",
              "      <td>0</td>\n",
              "      <td>5</td>\n",
              "      <td>6</td>\n",
              "      <td>3</td>\n",
              "      <td>3</td>\n",
              "      <td>3</td>\n",
              "      <td>4</td>\n",
              "      <td>975</td>\n",
              "      <td>0</td>\n",
              "    </tr>\n",
              "    <tr>\n",
              "      <th>Ankle boot</th>\n",
              "      <td>0</td>\n",
              "      <td>0</td>\n",
              "      <td>0</td>\n",
              "      <td>0</td>\n",
              "      <td>0</td>\n",
              "      <td>9</td>\n",
              "      <td>0</td>\n",
              "      <td>48</td>\n",
              "      <td>0</td>\n",
              "      <td>943</td>\n",
              "    </tr>\n",
              "  </tbody>\n",
              "</table>\n",
              "</div>\n",
              "    <div class=\"colab-df-buttons\">\n",
              "\n",
              "  <div class=\"colab-df-container\">\n",
              "    <button class=\"colab-df-convert\" onclick=\"convertToInteractive('df-85670982-3e67-442b-bd69-8904af700aa1')\"\n",
              "            title=\"Convert this dataframe to an interactive table.\"\n",
              "            style=\"display:none;\">\n",
              "\n",
              "  <svg xmlns=\"http://www.w3.org/2000/svg\" height=\"24px\" viewBox=\"0 -960 960 960\">\n",
              "    <path d=\"M120-120v-720h720v720H120Zm60-500h600v-160H180v160Zm220 220h160v-160H400v160Zm0 220h160v-160H400v160ZM180-400h160v-160H180v160Zm440 0h160v-160H620v160ZM180-180h160v-160H180v160Zm440 0h160v-160H620v160Z\"/>\n",
              "  </svg>\n",
              "    </button>\n",
              "\n",
              "  <style>\n",
              "    .colab-df-container {\n",
              "      display:flex;\n",
              "      gap: 12px;\n",
              "    }\n",
              "\n",
              "    .colab-df-convert {\n",
              "      background-color: #E8F0FE;\n",
              "      border: none;\n",
              "      border-radius: 50%;\n",
              "      cursor: pointer;\n",
              "      display: none;\n",
              "      fill: #1967D2;\n",
              "      height: 32px;\n",
              "      padding: 0 0 0 0;\n",
              "      width: 32px;\n",
              "    }\n",
              "\n",
              "    .colab-df-convert:hover {\n",
              "      background-color: #E2EBFA;\n",
              "      box-shadow: 0px 1px 2px rgba(60, 64, 67, 0.3), 0px 1px 3px 1px rgba(60, 64, 67, 0.15);\n",
              "      fill: #174EA6;\n",
              "    }\n",
              "\n",
              "    .colab-df-buttons div {\n",
              "      margin-bottom: 4px;\n",
              "    }\n",
              "\n",
              "    [theme=dark] .colab-df-convert {\n",
              "      background-color: #3B4455;\n",
              "      fill: #D2E3FC;\n",
              "    }\n",
              "\n",
              "    [theme=dark] .colab-df-convert:hover {\n",
              "      background-color: #434B5C;\n",
              "      box-shadow: 0px 1px 3px 1px rgba(0, 0, 0, 0.15);\n",
              "      filter: drop-shadow(0px 1px 2px rgba(0, 0, 0, 0.3));\n",
              "      fill: #FFFFFF;\n",
              "    }\n",
              "  </style>\n",
              "\n",
              "    <script>\n",
              "      const buttonEl =\n",
              "        document.querySelector('#df-85670982-3e67-442b-bd69-8904af700aa1 button.colab-df-convert');\n",
              "      buttonEl.style.display =\n",
              "        google.colab.kernel.accessAllowed ? 'block' : 'none';\n",
              "\n",
              "      async function convertToInteractive(key) {\n",
              "        const element = document.querySelector('#df-85670982-3e67-442b-bd69-8904af700aa1');\n",
              "        const dataTable =\n",
              "          await google.colab.kernel.invokeFunction('convertToInteractive',\n",
              "                                                    [key], {});\n",
              "        if (!dataTable) return;\n",
              "\n",
              "        const docLinkHtml = 'Like what you see? Visit the ' +\n",
              "          '<a target=\"_blank\" href=https://colab.research.google.com/notebooks/data_table.ipynb>data table notebook</a>'\n",
              "          + ' to learn more about interactive tables.';\n",
              "        element.innerHTML = '';\n",
              "        dataTable['output_type'] = 'display_data';\n",
              "        await google.colab.output.renderOutput(dataTable, element);\n",
              "        const docLink = document.createElement('div');\n",
              "        docLink.innerHTML = docLinkHtml;\n",
              "        element.appendChild(docLink);\n",
              "      }\n",
              "    </script>\n",
              "  </div>\n",
              "\n",
              "\n",
              "<div id=\"df-726cf85c-cb64-490c-88f0-7c99508e2adf\">\n",
              "  <button class=\"colab-df-quickchart\" onclick=\"quickchart('df-726cf85c-cb64-490c-88f0-7c99508e2adf')\"\n",
              "            title=\"Suggest charts\"\n",
              "            style=\"display:none;\">\n",
              "\n",
              "<svg xmlns=\"http://www.w3.org/2000/svg\" height=\"24px\"viewBox=\"0 0 24 24\"\n",
              "     width=\"24px\">\n",
              "    <g>\n",
              "        <path d=\"M19 3H5c-1.1 0-2 .9-2 2v14c0 1.1.9 2 2 2h14c1.1 0 2-.9 2-2V5c0-1.1-.9-2-2-2zM9 17H7v-7h2v7zm4 0h-2V7h2v10zm4 0h-2v-4h2v4z\"/>\n",
              "    </g>\n",
              "</svg>\n",
              "  </button>\n",
              "\n",
              "<style>\n",
              "  .colab-df-quickchart {\n",
              "      --bg-color: #E8F0FE;\n",
              "      --fill-color: #1967D2;\n",
              "      --hover-bg-color: #E2EBFA;\n",
              "      --hover-fill-color: #174EA6;\n",
              "      --disabled-fill-color: #AAA;\n",
              "      --disabled-bg-color: #DDD;\n",
              "  }\n",
              "\n",
              "  [theme=dark] .colab-df-quickchart {\n",
              "      --bg-color: #3B4455;\n",
              "      --fill-color: #D2E3FC;\n",
              "      --hover-bg-color: #434B5C;\n",
              "      --hover-fill-color: #FFFFFF;\n",
              "      --disabled-bg-color: #3B4455;\n",
              "      --disabled-fill-color: #666;\n",
              "  }\n",
              "\n",
              "  .colab-df-quickchart {\n",
              "    background-color: var(--bg-color);\n",
              "    border: none;\n",
              "    border-radius: 50%;\n",
              "    cursor: pointer;\n",
              "    display: none;\n",
              "    fill: var(--fill-color);\n",
              "    height: 32px;\n",
              "    padding: 0;\n",
              "    width: 32px;\n",
              "  }\n",
              "\n",
              "  .colab-df-quickchart:hover {\n",
              "    background-color: var(--hover-bg-color);\n",
              "    box-shadow: 0 1px 2px rgba(60, 64, 67, 0.3), 0 1px 3px 1px rgba(60, 64, 67, 0.15);\n",
              "    fill: var(--button-hover-fill-color);\n",
              "  }\n",
              "\n",
              "  .colab-df-quickchart-complete:disabled,\n",
              "  .colab-df-quickchart-complete:disabled:hover {\n",
              "    background-color: var(--disabled-bg-color);\n",
              "    fill: var(--disabled-fill-color);\n",
              "    box-shadow: none;\n",
              "  }\n",
              "\n",
              "  .colab-df-spinner {\n",
              "    border: 2px solid var(--fill-color);\n",
              "    border-color: transparent;\n",
              "    border-bottom-color: var(--fill-color);\n",
              "    animation:\n",
              "      spin 1s steps(1) infinite;\n",
              "  }\n",
              "\n",
              "  @keyframes spin {\n",
              "    0% {\n",
              "      border-color: transparent;\n",
              "      border-bottom-color: var(--fill-color);\n",
              "      border-left-color: var(--fill-color);\n",
              "    }\n",
              "    20% {\n",
              "      border-color: transparent;\n",
              "      border-left-color: var(--fill-color);\n",
              "      border-top-color: var(--fill-color);\n",
              "    }\n",
              "    30% {\n",
              "      border-color: transparent;\n",
              "      border-left-color: var(--fill-color);\n",
              "      border-top-color: var(--fill-color);\n",
              "      border-right-color: var(--fill-color);\n",
              "    }\n",
              "    40% {\n",
              "      border-color: transparent;\n",
              "      border-right-color: var(--fill-color);\n",
              "      border-top-color: var(--fill-color);\n",
              "    }\n",
              "    60% {\n",
              "      border-color: transparent;\n",
              "      border-right-color: var(--fill-color);\n",
              "    }\n",
              "    80% {\n",
              "      border-color: transparent;\n",
              "      border-right-color: var(--fill-color);\n",
              "      border-bottom-color: var(--fill-color);\n",
              "    }\n",
              "    90% {\n",
              "      border-color: transparent;\n",
              "      border-bottom-color: var(--fill-color);\n",
              "    }\n",
              "  }\n",
              "</style>\n",
              "\n",
              "  <script>\n",
              "    async function quickchart(key) {\n",
              "      const quickchartButtonEl =\n",
              "        document.querySelector('#' + key + ' button');\n",
              "      quickchartButtonEl.disabled = true;  // To prevent multiple clicks.\n",
              "      quickchartButtonEl.classList.add('colab-df-spinner');\n",
              "      try {\n",
              "        const charts = await google.colab.kernel.invokeFunction(\n",
              "            'suggestCharts', [key], {});\n",
              "      } catch (error) {\n",
              "        console.error('Error during call to suggestCharts:', error);\n",
              "      }\n",
              "      quickchartButtonEl.classList.remove('colab-df-spinner');\n",
              "      quickchartButtonEl.classList.add('colab-df-quickchart-complete');\n",
              "    }\n",
              "    (() => {\n",
              "      let quickchartButtonEl =\n",
              "        document.querySelector('#df-726cf85c-cb64-490c-88f0-7c99508e2adf button');\n",
              "      quickchartButtonEl.style.display =\n",
              "        google.colab.kernel.accessAllowed ? 'block' : 'none';\n",
              "    })();\n",
              "  </script>\n",
              "</div>\n",
              "\n",
              "    </div>\n",
              "  </div>\n"
            ],
            "application/vnd.google.colaboratory.intrinsic+json": {
              "type": "dataframe",
              "summary": "{\n  \"name\": \"pd\",\n  \"rows\": 10,\n  \"fields\": [\n    {\n      \"column\": \"T-shirt/top\",\n      \"properties\": {\n        \"dtype\": \"number\",\n        \"std\": 268,\n        \"min\": 0,\n        \"max\": 858,\n        \"num_unique_values\": 6,\n        \"samples\": [\n          858,\n          0,\n          116\n        ],\n        \"semantic_type\": \"\",\n        \"description\": \"\"\n      }\n    },\n    {\n      \"column\": \"Trouser\",\n      \"properties\": {\n        \"dtype\": \"number\",\n        \"std\": 307,\n        \"min\": 0,\n        \"max\": 973,\n        \"num_unique_values\": 4,\n        \"samples\": [\n          973,\n          1,\n          0\n        ],\n        \"semantic_type\": \"\",\n        \"description\": \"\"\n      }\n    },\n    {\n      \"column\": \"Pullover\",\n      \"properties\": {\n        \"dtype\": \"number\",\n        \"std\": 274,\n        \"min\": 0,\n        \"max\": 884,\n        \"num_unique_values\": 8,\n        \"samples\": [\n          1,\n          0,\n          17\n        ],\n        \"semantic_type\": \"\",\n        \"description\": \"\"\n      }\n    },\n    {\n      \"column\": \"Dress\",\n      \"properties\": {\n        \"dtype\": \"number\",\n        \"std\": 290,\n        \"min\": 0,\n        \"max\": 934,\n        \"num_unique_values\": 8,\n        \"samples\": [\n          17,\n          0,\n          31\n        ],\n        \"semantic_type\": \"\",\n        \"description\": \"\"\n      }\n    },\n    {\n      \"column\": \"Coat\",\n      \"properties\": {\n        \"dtype\": \"number\",\n        \"std\": 249,\n        \"min\": 0,\n        \"max\": 801,\n        \"num_unique_values\": 7,\n        \"samples\": [\n          2,\n          3,\n          0\n        ],\n        \"semantic_type\": \"\",\n        \"description\": \"\"\n      }\n    },\n    {\n      \"column\": \"Sandal\",\n      \"properties\": {\n        \"dtype\": \"number\",\n        \"std\": 306,\n        \"min\": 0,\n        \"max\": 971,\n        \"num_unique_values\": 5,\n        \"samples\": [\n          0,\n          9,\n          971\n        ],\n        \"semantic_type\": \"\",\n        \"description\": \"\"\n      }\n    },\n    {\n      \"column\": \"Shirt\",\n      \"properties\": {\n        \"dtype\": \"number\",\n        \"std\": 212,\n        \"min\": 0,\n        \"max\": 692,\n        \"num_unique_values\": 8,\n        \"samples\": [\n          4,\n          0,\n          87\n        ],\n        \"semantic_type\": \"\",\n        \"description\": \"\"\n      }\n    },\n    {\n      \"column\": \"Sneaker\",\n      \"properties\": {\n        \"dtype\": \"number\",\n        \"std\": 308,\n        \"min\": 0,\n        \"max\": 982,\n        \"num_unique_values\": 5,\n        \"samples\": [\n          22,\n          48,\n          982\n        ],\n        \"semantic_type\": \"\",\n        \"description\": \"\"\n      }\n    },\n    {\n      \"column\": \"Bag\",\n      \"properties\": {\n        \"dtype\": \"number\",\n        \"std\": 307,\n        \"min\": 0,\n        \"max\": 975,\n        \"num_unique_values\": 5,\n        \"samples\": [\n          2,\n          975,\n          0\n        ],\n        \"semantic_type\": \"\",\n        \"description\": \"\"\n      }\n    },\n    {\n      \"column\": \"Ankle boot\",\n      \"properties\": {\n        \"dtype\": \"number\",\n        \"std\": 297,\n        \"min\": 0,\n        \"max\": 943,\n        \"num_unique_values\": 4,\n        \"samples\": [\n          7,\n          943,\n          0\n        ],\n        \"semantic_type\": \"\",\n        \"description\": \"\"\n      }\n    }\n  ]\n}"
            }
          },
          "metadata": {},
          "execution_count": 29
        }
      ]
    },
    {
      "cell_type": "code",
      "source": [
        "pred"
      ],
      "metadata": {
        "colab": {
          "base_uri": "https://localhost:8080/"
        },
        "id": "LkW23aWEazy7",
        "outputId": "8023f474-0a38-4e2f-90b6-22ea316432fa"
      },
      "execution_count": 30,
      "outputs": [
        {
          "output_type": "execute_result",
          "data": {
            "text/plain": [
              "array([9, 2, 1, ..., 8, 1, 5])"
            ]
          },
          "metadata": {},
          "execution_count": 30
        }
      ]
    },
    {
      "cell_type": "code",
      "source": [
        "#now we wil try to use the vgg19"
      ],
      "metadata": {
        "id": "nS1qvWbZbZNG"
      },
      "execution_count": 31,
      "outputs": []
    },
    {
      "cell_type": "code",
      "source": [
        "#bring the model\n",
        "# few important thing is reshape , resizeimages\n",
        "# make the weights changeable\n",
        "# remove the last dense layer and change it with our req layer"
      ],
      "metadata": {
        "id": "JFnmBr4MgXaM"
      },
      "execution_count": 32,
      "outputs": []
    },
    {
      "cell_type": "code",
      "source": [
        "import tensorflow.keras.applications.vgg19 as vgg19"
      ],
      "metadata": {
        "id": "EJshBTXihEpo"
      },
      "execution_count": 9,
      "outputs": []
    },
    {
      "cell_type": "code",
      "source": [
        "#reshape\n",
        "X_test=np.stack([X_test]*3,axis=-1)\n",
        "X_train=np.stack([X_train]*3,axis=-1)"
      ],
      "metadata": {
        "id": "fT14s6nshvia"
      },
      "execution_count": 6,
      "outputs": []
    },
    {
      "cell_type": "code",
      "source": [
        "#re size\n",
        "import cv2\n",
        "def resize(img,new_size_dims):\n",
        "  img=cv2.resize(img,dsize=new_size_dims,interpolation=cv2.INTER_CUBIC)\n",
        "  img=np.array(img,dtype=np.float32)\n",
        "  return img"
      ],
      "metadata": {
        "id": "9gHTHEsJiPPD"
      },
      "execution_count": 7,
      "outputs": []
    },
    {
      "cell_type": "code",
      "source": [
        "%time\n",
        "new_size_dims=(32,32)\n",
        "X_train=np.array([resize(img,new_size_dims)for img in X_train])\n",
        "X_test=np.array([resize(img,new_size_dims)for img in X_test])"
      ],
      "metadata": {
        "colab": {
          "base_uri": "https://localhost:8080/"
        },
        "id": "SDsULYS6iRI5",
        "outputId": "019f0186-6aca-4591-9566-43a78af0fafb"
      },
      "execution_count": 8,
      "outputs": [
        {
          "output_type": "stream",
          "name": "stdout",
          "text": [
            "CPU times: user 3 µs, sys: 1e+03 ns, total: 4 µs\n",
            "Wall time: 7.39 µs\n"
          ]
        }
      ]
    },
    {
      "cell_type": "code",
      "source": [
        "# now building the vgg19\n",
        "INPUT_SHAPE=(32,32,3)\n",
        "vgg_layers=vgg19.VGG19(weights='imagenet',include_top=False,input_shape=INPUT_SHAPE)"
      ],
      "metadata": {
        "colab": {
          "base_uri": "https://localhost:8080/"
        },
        "id": "jh4ZxG_5iiv9",
        "outputId": "48fef841-6662-4217-e3ac-768f66cbd643"
      },
      "execution_count": 11,
      "outputs": [
        {
          "output_type": "stream",
          "name": "stdout",
          "text": [
            "Downloading data from https://storage.googleapis.com/tensorflow/keras-applications/vgg19/vgg19_weights_tf_dim_ordering_tf_kernels_notop.h5\n",
            "80134624/80134624 [==============================] - 4s 0us/step\n"
          ]
        }
      ]
    },
    {
      "cell_type": "code",
      "source": [
        "vgg_layers.summary()"
      ],
      "metadata": {
        "colab": {
          "base_uri": "https://localhost:8080/"
        },
        "id": "KM1hityXjG_r",
        "outputId": "98e8bbcd-0dbf-46c7-d2b6-79327f3c8582"
      },
      "execution_count": 12,
      "outputs": [
        {
          "output_type": "stream",
          "name": "stdout",
          "text": [
            "Model: \"vgg19\"\n",
            "_________________________________________________________________\n",
            " Layer (type)                Output Shape              Param #   \n",
            "=================================================================\n",
            " input_1 (InputLayer)        [(None, 32, 32, 3)]       0         \n",
            "                                                                 \n",
            " block1_conv1 (Conv2D)       (None, 32, 32, 64)        1792      \n",
            "                                                                 \n",
            " block1_conv2 (Conv2D)       (None, 32, 32, 64)        36928     \n",
            "                                                                 \n",
            " block1_pool (MaxPooling2D)  (None, 16, 16, 64)        0         \n",
            "                                                                 \n",
            " block2_conv1 (Conv2D)       (None, 16, 16, 128)       73856     \n",
            "                                                                 \n",
            " block2_conv2 (Conv2D)       (None, 16, 16, 128)       147584    \n",
            "                                                                 \n",
            " block2_pool (MaxPooling2D)  (None, 8, 8, 128)         0         \n",
            "                                                                 \n",
            " block3_conv1 (Conv2D)       (None, 8, 8, 256)         295168    \n",
            "                                                                 \n",
            " block3_conv2 (Conv2D)       (None, 8, 8, 256)         590080    \n",
            "                                                                 \n",
            " block3_conv3 (Conv2D)       (None, 8, 8, 256)         590080    \n",
            "                                                                 \n",
            " block3_conv4 (Conv2D)       (None, 8, 8, 256)         590080    \n",
            "                                                                 \n",
            " block3_pool (MaxPooling2D)  (None, 4, 4, 256)         0         \n",
            "                                                                 \n",
            " block4_conv1 (Conv2D)       (None, 4, 4, 512)         1180160   \n",
            "                                                                 \n",
            " block4_conv2 (Conv2D)       (None, 4, 4, 512)         2359808   \n",
            "                                                                 \n",
            " block4_conv3 (Conv2D)       (None, 4, 4, 512)         2359808   \n",
            "                                                                 \n",
            " block4_conv4 (Conv2D)       (None, 4, 4, 512)         2359808   \n",
            "                                                                 \n",
            " block4_pool (MaxPooling2D)  (None, 2, 2, 512)         0         \n",
            "                                                                 \n",
            " block5_conv1 (Conv2D)       (None, 2, 2, 512)         2359808   \n",
            "                                                                 \n",
            " block5_conv2 (Conv2D)       (None, 2, 2, 512)         2359808   \n",
            "                                                                 \n",
            " block5_conv3 (Conv2D)       (None, 2, 2, 512)         2359808   \n",
            "                                                                 \n",
            " block5_conv4 (Conv2D)       (None, 2, 2, 512)         2359808   \n",
            "                                                                 \n",
            " block5_pool (MaxPooling2D)  (None, 1, 1, 512)         0         \n",
            "                                                                 \n",
            "=================================================================\n",
            "Total params: 20024384 (76.39 MB)\n",
            "Trainable params: 20024384 (76.39 MB)\n",
            "Non-trainable params: 0 (0.00 Byte)\n",
            "_________________________________________________________________\n"
          ]
        }
      ]
    },
    {
      "cell_type": "code",
      "source": [
        "for layer in vgg_layers.layers:\n",
        "  layer.trainable=True"
      ],
      "metadata": {
        "colab": {
          "base_uri": "https://localhost:8080/"
        },
        "id": "jtErTmk4jTgz",
        "outputId": "019b6a41-d8d7-4b53-e801-36ebb22e4d97"
      },
      "execution_count": 13,
      "outputs": [
        {
          "output_type": "stream",
          "name": "stdout",
          "text": [
            "<keras.src.engine.input_layer.InputLayer object at 0x791191d97f10> True\n",
            "<keras.src.layers.convolutional.conv2d.Conv2D object at 0x791191d96b60> True\n",
            "<keras.src.layers.convolutional.conv2d.Conv2D object at 0x791191c50190> True\n",
            "<keras.src.layers.pooling.max_pooling2d.MaxPooling2D object at 0x791191c53d60> True\n",
            "<keras.src.layers.convolutional.conv2d.Conv2D object at 0x7911aa2179a0> True\n",
            "<keras.src.layers.convolutional.conv2d.Conv2D object at 0x791191c50f40> True\n",
            "<keras.src.layers.pooling.max_pooling2d.MaxPooling2D object at 0x791191b1cd30> True\n",
            "<keras.src.layers.convolutional.conv2d.Conv2D object at 0x791191b1d390> True\n",
            "<keras.src.layers.convolutional.conv2d.Conv2D object at 0x791191b1db40> True\n",
            "<keras.src.layers.convolutional.conv2d.Conv2D object at 0x791191b1d030> True\n",
            "<keras.src.layers.convolutional.conv2d.Conv2D object at 0x791191b1e980> True\n",
            "<keras.src.layers.pooling.max_pooling2d.MaxPooling2D object at 0x791191b1f400> True\n",
            "<keras.src.layers.convolutional.conv2d.Conv2D object at 0x791191b1f670> True\n",
            "<keras.src.layers.convolutional.conv2d.Conv2D object at 0x791191b1d840> True\n",
            "<keras.src.layers.convolutional.conv2d.Conv2D object at 0x79119152d420> True\n",
            "<keras.src.layers.convolutional.conv2d.Conv2D object at 0x79119152e020> True\n",
            "<keras.src.layers.pooling.max_pooling2d.MaxPooling2D object at 0x79119152f490> True\n",
            "<keras.src.layers.convolutional.conv2d.Conv2D object at 0x79119152fc40> True\n",
            "<keras.src.layers.convolutional.conv2d.Conv2D object at 0x79119152e770> True\n",
            "<keras.src.layers.convolutional.conv2d.Conv2D object at 0x79119152cca0> True\n",
            "<keras.src.layers.convolutional.conv2d.Conv2D object at 0x791191510610> True\n",
            "<keras.src.layers.pooling.max_pooling2d.MaxPooling2D object at 0x791191512560> True\n"
          ]
        }
      ]
    },
    {
      "cell_type": "code",
      "source": [
        "model=Sequential()\n",
        "model.add(vgg_layers)\n",
        "model.add(Flatten())\n",
        "model.add(Dense(128,activation='relu'))\n",
        "model.add(Dropout(rate=0.2))\n",
        "#output\n",
        "model.add(Dense(10,activation='softmax'))"
      ],
      "metadata": {
        "id": "4XGkrLmLjpX0"
      },
      "execution_count": 14,
      "outputs": []
    },
    {
      "cell_type": "code",
      "source": [
        "optimiser=Adam(learning_rate=2e-5)\n",
        "model.compile(optimizer=optimiser,loss='sparse_categorical_crossentropy',metrics=['accuracy'])\n",
        ""
      ],
      "metadata": {
        "id": "u4miyuJekG6z"
      },
      "execution_count": 16,
      "outputs": []
    },
    {
      "cell_type": "code",
      "source": [
        "X_train=X_train/255\n",
        "callback=EarlyStopping(monitor='val_loss',mode='auto',patience=4,restore_best_weights=True)\n",
        "model.fit(X_train,y_train,epochs=15,batch_size=32,callbacks=[callback],validation_split=0.1,verbose=1)"
      ],
      "metadata": {
        "colab": {
          "base_uri": "https://localhost:8080/"
        },
        "id": "Wxf9bVr-kJGE",
        "outputId": "df5755a0-a58e-42e1-b16c-5401fa97941a"
      },
      "execution_count": null,
      "outputs": [
        {
          "output_type": "stream",
          "name": "stdout",
          "text": [
            "Epoch 1/15\n",
            "1688/1688 [==============================] - 79s 40ms/step - loss: 0.4313 - accuracy: 0.8493 - val_loss: 0.2917 - val_accuracy: 0.8957\n",
            "Epoch 2/15\n",
            "1688/1688 [==============================] - 65s 38ms/step - loss: 0.2751 - accuracy: 0.9039 - val_loss: 0.2370 - val_accuracy: 0.9118\n",
            "Epoch 3/15\n",
            "1688/1688 [==============================] - 66s 39ms/step - loss: 0.2343 - accuracy: 0.9156 - val_loss: 0.2491 - val_accuracy: 0.9097\n",
            "Epoch 4/15\n",
            "1688/1688 [==============================] - 66s 39ms/step - loss: 0.2052 - accuracy: 0.9263 - val_loss: 0.2409 - val_accuracy: 0.9137\n",
            "Epoch 5/15\n",
            "1688/1688 [==============================] - 66s 39ms/step - loss: 0.1845 - accuracy: 0.9335 - val_loss: 0.2262 - val_accuracy: 0.9188\n",
            "Epoch 6/15\n",
            "1271/1688 [=====================>........] - ETA: 15s - loss: 0.1596 - accuracy: 0.9417"
          ]
        }
      ]
    },
    {
      "cell_type": "code",
      "source": [],
      "metadata": {
        "id": "p215SWdjkirF"
      },
      "execution_count": null,
      "outputs": []
    }
  ]
}